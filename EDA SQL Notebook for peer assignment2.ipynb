{
 "cells": [
  {
   "cell_type": "markdown",
   "id": "5eff5c7f",
   "metadata": {},
   "source": [
    "## SQL Notebook for peer Assignment"
   ]
  },
  {
   "cell_type": "markdown",
   "id": "10abd3a7",
   "metadata": {},
   "source": [
    "## Introduction\n",
    "\n",
    "Using this python notebook you will:\n",
    "1. Understand the spacex DataSet\n",
    "2. Load the dataset into the corresponding table in a Db2 database\n",
    "3. Execute SQL queries to answer assignment questions"
   ]
  },
  {
   "cell_type": "code",
   "execution_count": 67,
   "id": "c36aace3",
   "metadata": {},
   "outputs": [
    {
     "name": "stdout",
     "output_type": "stream",
     "text": [
      "Collecting sqlalchemy==1.3.9\n",
      "  Using cached SQLAlchemy-1.3.9-cp311-cp311-macosx_11_0_arm64.whl\n",
      "Installing collected packages: sqlalchemy\n",
      "  Attempting uninstall: sqlalchemy\n",
      "    Found existing installation: SQLAlchemy 2.0.0\n",
      "    Uninstalling SQLAlchemy-2.0.0:\n",
      "      Successfully uninstalled SQLAlchemy-2.0.0\n",
      "\u001b[31mERROR: pip's dependency resolver does not currently take into account all the packages that are installed. This behaviour is the source of the following dependency conflicts.\n",
      "ipython-sql 0.5.0 requires sqlalchemy>=2.0, but you have sqlalchemy 1.3.9 which is incompatible.\u001b[0m\u001b[31m\n",
      "\u001b[0mSuccessfully installed sqlalchemy-1.3.9\n",
      "Collecting sqlalchemy==2.0.0\n",
      "  Using cached SQLAlchemy-2.0.0-cp311-cp311-macosx_11_0_arm64.whl (1.9 MB)\n",
      "Requirement already satisfied: typing-extensions>=4.2.0 in /Users/josethorex/anaconda3/lib/python3.11/site-packages (from sqlalchemy==2.0.0) (4.7.1)\n",
      "Installing collected packages: sqlalchemy\n",
      "  Attempting uninstall: sqlalchemy\n",
      "    Found existing installation: SQLAlchemy 1.3.9\n",
      "    Uninstalling SQLAlchemy-1.3.9:\n",
      "      Successfully uninstalled SQLAlchemy-1.3.9\n",
      "Successfully installed sqlalchemy-2.0.0\n"
     ]
    }
   ],
   "source": [
    "!pip install sqlalchemy==1.3.9\n",
    "!pip install sqlalchemy==2.0.0"
   ]
  },
  {
   "cell_type": "markdown",
   "id": "3d0c7358",
   "metadata": {},
   "source": [
    "## Connecting to the database¶\n",
    "first load the SQL extension and establish a connection with the database\n"
   ]
  },
  {
   "cell_type": "code",
   "execution_count": 68,
   "id": "da168d6a",
   "metadata": {},
   "outputs": [
    {
     "name": "stdout",
     "output_type": "stream",
     "text": [
      "The sql extension is already loaded. To reload it, use:\n",
      "  %reload_ext sql\n"
     ]
    }
   ],
   "source": [
    "%load_ext sql"
   ]
  },
  {
   "cell_type": "code",
   "execution_count": 69,
   "id": "7037abb2",
   "metadata": {},
   "outputs": [],
   "source": [
    "import sqlite3\n",
    "import csv, sqlite3\n",
    "con = sqlite3.connect(\"my_data1.db\")\n",
    "cur = con.cursor()"
   ]
  },
  {
   "cell_type": "code",
   "execution_count": 70,
   "id": "ee6708ef",
   "metadata": {},
   "outputs": [],
   "source": [
    "!pip install -q pandas==1.1.5\n",
    "!pip install -q pandas==1.1.5 -i https://pypi.org/simple\n",
    "!pip install -q --timeout=1000 pandas==1.1.5"
   ]
  },
  {
   "cell_type": "code",
   "execution_count": 71,
   "id": "a3c5d5d6",
   "metadata": {},
   "outputs": [],
   "source": [
    "%sql sqlite:///my_data.db"
   ]
  },
  {
   "cell_type": "code",
   "execution_count": 72,
   "id": "1735bb5f",
   "metadata": {},
   "outputs": [
    {
     "data": {
      "text/plain": [
       "101"
      ]
     },
     "execution_count": 72,
     "metadata": {},
     "output_type": "execute_result"
    }
   ],
   "source": [
    "import pandas as pd\n",
    "df = pd.read_csv(\"https://cf-courses-data.s3.us.cloud-object-storage.appdomain.cloud/IBM-DS0321EN-SkillsNetwork/labs/module_2/data/Spacex.csv\")\n",
    "df.to_sql(\"SPACEXTABLE\", con, if_exists='replace', index=False,method=\"multi\")"
   ]
  },
  {
   "cell_type": "markdown",
   "id": "e083add2",
   "metadata": {},
   "source": [
    "## Note: This below code is added to remove blank rows from table"
   ]
  },
  {
   "cell_type": "code",
   "execution_count": 73,
   "id": "57446340",
   "metadata": {},
   "outputs": [
    {
     "name": "stdout",
     "output_type": "stream",
     "text": [
      " * sqlite:///my_data.db\n",
      "(sqlite3.OperationalError) table SPACEXTABLE already exists\n",
      "[SQL: create table SPACEXTABLE as select * from SPACEXTBL where Date is not null]\n",
      "(Background on this error at: https://sqlalche.me/e/20/e3q8)\n"
     ]
    }
   ],
   "source": [
    "%sql create table SPACEXTABLE as select * from SPACEXTBL where Date is not null"
   ]
  },
  {
   "cell_type": "markdown",
   "id": "cbea3bc0",
   "metadata": {},
   "source": [
    "## Tasks¶\n",
    "Now write and execute SQL queries to solve the assignment tasks.\n",
    "Note: If the column names are in mixed case enclose it in double quotes For Example \"Landing_Outcome\"\n"
   ]
  },
  {
   "cell_type": "markdown",
   "id": "d4b3e2e3",
   "metadata": {},
   "source": [
    "## Task 1\n",
    "Display the names of the unique launch sites in the space mission"
   ]
  },
  {
   "cell_type": "code",
   "execution_count": 74,
   "id": "7bd18c5e",
   "metadata": {},
   "outputs": [
    {
     "name": "stdout",
     "output_type": "stream",
     "text": [
      "[('CCAFS LC-40',), ('VAFB SLC-4E',), ('KSC LC-39A',), ('CCAFS SLC-40',)]\n"
     ]
    }
   ],
   "source": [
    "import sqlite3\n",
    "\n",
    "# Conectar a la base de datos\n",
    "conn = sqlite3.connect('my_data1.db')\n",
    "cursor = conn.cursor()\n",
    "\n",
    "# Ejecutar una consulta SQL\n",
    "query = 'SELECT DISTINCT Launch_Site FROM SPACEXTABLE;'\n",
    "cursor.execute(query)\n",
    "\n",
    "# Obtener los resultados\n",
    "resultados = cursor.fetchall()\n",
    "\n",
    "# Cerrar la conexión\n",
    "conn.close()\n",
    "\n",
    "# Imprimir los resultados\n",
    "print(resultados)"
   ]
  },
  {
   "cell_type": "markdown",
   "id": "ce03bedc",
   "metadata": {},
   "source": [
    "## Task 2\n",
    "Display 5 record where launch sites begin with the string 'CCA'"
   ]
  },
  {
   "cell_type": "code",
   "execution_count": 75,
   "id": "d5916676",
   "metadata": {},
   "outputs": [
    {
     "name": "stdout",
     "output_type": "stream",
     "text": [
      "[('6/4/2010', '18:45:00', 'F9 v1.0  B0003', 'CCAFS LC-40', 'Dragon Spacecraft Qualification Unit', 0, 'LEO', 'SpaceX', 'Success', 'Failure (parachute)'), ('12/8/2010', '15:43:00', 'F9 v1.0  B0004', 'CCAFS LC-40', 'Dragon demo flight C1, two CubeSats, barrel of Brouere cheese', 0, 'LEO (ISS)', 'NASA (COTS) NRO', 'Success', 'Failure (parachute)'), ('22/05/2012', '7:44:00', 'F9 v1.0  B0005', 'CCAFS LC-40', 'Dragon demo flight C2', 525, 'LEO (ISS)', 'NASA (COTS)', 'Success', 'No attempt'), ('10/8/2012', '0:35:00', 'F9 v1.0  B0006', 'CCAFS LC-40', 'SpaceX CRS-1', 500, 'LEO (ISS)', 'NASA (CRS)', 'Success', 'No attempt'), ('3/1/2013', '15:10:00', 'F9 v1.0  B0007', 'CCAFS LC-40', 'SpaceX CRS-2', 677, 'LEO (ISS)', 'NASA (CRS)', 'Success', 'No attempt')]\n"
     ]
    }
   ],
   "source": [
    "import sqlite3\n",
    "\n",
    "# Conectar a la base de datos\n",
    "conn = sqlite3.connect('my_data1.db')\n",
    "cursor = conn.cursor()\n",
    "\n",
    "# Ejecutar la consulta SQL\n",
    "query = 'SELECT * FROM SPACEXTABLE WHERE Launch_Site LIKE \"CCA%\" LIMIT 5;'\n",
    "cursor.execute(query)\n",
    "\n",
    "# Obtener los resultados\n",
    "resultados = cursor.fetchall()\n",
    "\n",
    "# Cerrar la conexión\n",
    "conn.close()\n",
    "\n",
    "# Imprimir los resultados\n",
    "print(resultados)\n"
   ]
  },
  {
   "cell_type": "markdown",
   "id": "39bb71df",
   "metadata": {},
   "source": [
    "## Task 3\n",
    "Display the total payload mass carried by boosters launched by NASA (CRS)"
   ]
  },
  {
   "cell_type": "code",
   "execution_count": 89,
   "id": "b4087070",
   "metadata": {},
   "outputs": [
    {
     "name": "stdout",
     "output_type": "stream",
     "text": [
      "La masa total de carga útil transportada por los impulsores lanzados por la NASA (CRS) es: 45596 kg\n"
     ]
    }
   ],
   "source": [
    "import sqlite3\n",
    "\n",
    "# Conectar a la base de datos (asegúrate de cambiar 'my_data1.db' por el nombre real de tu base de datos)\n",
    "conn = sqlite3.connect('my_data1.db')\n",
    "cursor = conn.cursor()\n",
    "\n",
    "# Ejecutar la consulta SQL para obtener la suma de payload_mass__kg_ para los lanzamientos de la NASA (CRS)\n",
    "query = \"SELECT SUM(payload_mass__kg_) FROM SPACEXTABLE WHERE Customer = 'NASA (CRS)';\"\n",
    "cursor.execute(query)\n",
    "\n",
    "# Obtener el resultado\n",
    "result = cursor.fetchone()\n",
    "\n",
    "# Imprimir el resultado\n",
    "print(\"La masa total de carga útil transportada por los impulsores lanzados por la NASA (CRS) es:\", result[0], \"kg\")\n",
    "\n",
    "# Cerrar la conexión\n",
    "conn.close()\n",
    "\n"
   ]
  },
  {
   "cell_type": "markdown",
   "id": "795e88ca",
   "metadata": {},
   "source": [
    "## Task 4\n",
    "Display average payload mass carried by booter version F9"
   ]
  },
  {
   "cell_type": "code",
   "execution_count": 90,
   "id": "857e8374",
   "metadata": {},
   "outputs": [
    {
     "name": "stdout",
     "output_type": "stream",
     "text": [
      "El promedio de la masa de carga útil transportada por la versión F9 es: None kg\n"
     ]
    }
   ],
   "source": [
    "import sqlite3\n",
    "\n",
    "# Conectar a la base de datos (asegúrate de cambiar 'my_data1.db' por el nombre real de tu base de datos)\n",
    "conn = sqlite3.connect('my_data1.db')\n",
    "cursor = conn.cursor()\n",
    "\n",
    "# Ejecutar la consulta SQL para obtener el promedio de payload_mass__kg_ para los lanzamientos de la versión F9\n",
    "query = \"SELECT AVG(payload_mass__kg_) FROM SPACEXTABLE WHERE booster_version = 'F9';\"\n",
    "cursor.execute(query)\n",
    "\n",
    "# Obtener el resultado\n",
    "result = cursor.fetchone()\n",
    "\n",
    "# Imprimir el resultado\n",
    "print(\"El promedio de la masa de carga útil transportada por la versión F9 es:\", result[0], \"kg\")\n",
    "\n",
    "# Cerrar la conexión\n",
    "conn.close()\n"
   ]
  },
  {
   "cell_type": "markdown",
   "id": "5661b3bc",
   "metadata": {},
   "source": [
    "## Task 5\n",
    "List the date when the first succesful landing outcome in ground pad was achieved.\n",
    "\n",
    "Hint: Use min function"
   ]
  },
  {
   "cell_type": "code",
   "execution_count": 92,
   "id": "41ecebe2",
   "metadata": {},
   "outputs": [
    {
     "name": "stdout",
     "output_type": "stream",
     "text": [
      "La fecha del primer aterrizaje exitoso en una plataforma terrestre fue: 1/11/2019\n"
     ]
    }
   ],
   "source": [
    "import sqlite3\n",
    "\n",
    "# Conectar a la base de datos (asegúrate de cambiar 'my_data1.db' por el nombre real de tu base de datos)\n",
    "conn = sqlite3.connect('my_data1.db')\n",
    "cursor = conn.cursor()\n",
    "\n",
    "# Ejecutar la consulta SQL para obtener la fecha del primer aterrizaje exitoso en una plataforma terrestre\n",
    "query = \"SELECT MIN(date) FROM SPACEXTABLE WHERE landing_outcome = 'Success';\"\n",
    "cursor.execute(query)\n",
    "\n",
    "# Obtener el resultado\n",
    "result = cursor.fetchone()\n",
    "\n",
    "# Imprimir el resultado\n",
    "print(\"La fecha del primer aterrizaje exitoso en una plataforma terrestre fue:\", result[0])\n",
    "\n",
    "# Cerrar la conexión\n",
    "conn.close()\n"
   ]
  },
  {
   "cell_type": "markdown",
   "id": "adf761d2",
   "metadata": {},
   "source": [
    "## Task 6 \n",
    "List the names of the boosters which have success in drone ship and have pyload mass greater than 4000 but less than 6000"
   ]
  },
  {
   "cell_type": "code",
   "execution_count": 96,
   "id": "0e09316d",
   "metadata": {},
   "outputs": [
    {
     "name": "stdout",
     "output_type": "stream",
     "text": [
      "Nombres de los impulsores con éxito en drone ship y con masa de carga útil entre 4000 y 6000 kg:\n"
     ]
    }
   ],
   "source": [
    "import sqlite3\n",
    "\n",
    "# Conectar a la base de datos (asegúrate de cambiar 'my_data1.db' por el nombre real de tu base de datos)\n",
    "conn = sqlite3.connect('my_data1.db')\n",
    "cursor = conn.cursor()\n",
    "\n",
    "# Ejecutar la consulta SQL para obtener los nombres de los impulsores con éxito en drone ship y con payload_mass entre 4000 y 6000\n",
    "query = \"SELECT Booster_version FROM SPACEXTABLE WHERE Landing_outcome = 'True' AND Landing_outcome = 'Drone Ship' AND payload_mass__kg_ > 4000 AND payload_mass__kg_ < 6000;\"\n",
    "cursor.execute(query)\n",
    "\n",
    "# Obtener los resultados\n",
    "results = cursor.fetchall()\n",
    "\n",
    "# Imprimir los nombres de los impulsores\n",
    "print(\"Nombres de los impulsores con éxito en drone ship y con masa de carga útil entre 4000 y 6000 kg:\")\n",
    "for row in results:\n",
    "    print(row[0])\n",
    "\n",
    "# Cerrar la conexión\n",
    "conn.close()\n"
   ]
  },
  {
   "cell_type": "markdown",
   "id": "b565d47d",
   "metadata": {},
   "source": [
    "## Task 7\n",
    "List the total number of successful and failure mission outcomes"
   ]
  },
  {
   "cell_type": "code",
   "execution_count": 99,
   "id": "42b2fac5",
   "metadata": {},
   "outputs": [
    {
     "name": "stdout",
     "output_type": "stream",
     "text": [
      "Número de misiones con resultado 'Failure (in flight)': 1\n",
      "Número de misiones con resultado 'Success': 98\n",
      "Número de misiones con resultado 'Success ': 1\n",
      "Número de misiones con resultado 'Success (payload status unclear)': 1\n"
     ]
    }
   ],
   "source": [
    "import sqlite3\n",
    "\n",
    "# Conectar a la base de datos (asegúrate de cambiar 'my_data1.db' por el nombre real de tu base de datos)\n",
    "conn = sqlite3.connect('my_data1.db')\n",
    "cursor = conn.cursor()\n",
    "\n",
    "# Ejecutar la consulta SQL para obtener el número total de misiones exitosas y fallidas\n",
    "query = \"SELECT Mission_outcome, COUNT(*) FROM SPACEXTABLE GROUP BY Mission_outcome;\"\n",
    "cursor.execute(query)\n",
    "\n",
    "# Obtener los resultados\n",
    "results = cursor.fetchall()\n",
    "\n",
    "# Imprimir los resultados\n",
    "for outcome, count in results:\n",
    "    print(f\"Número de misiones con resultado '{outcome}': {count}\")\n",
    "\n",
    "# Cerrar la conexión\n",
    "conn.close()\n"
   ]
  },
  {
   "cell_type": "markdown",
   "id": "6cf9e0cf",
   "metadata": {},
   "source": [
    "## Task 8\n",
    "List the names of the booster_versions which have carried the maximum pyload mass. Use subquery"
   ]
  },
  {
   "cell_type": "code",
   "execution_count": 100,
   "id": "53ad189c",
   "metadata": {},
   "outputs": [
    {
     "name": "stdout",
     "output_type": "stream",
     "text": [
      "Las versiones de impulsores que llevaron la máxima masa de carga útil son:\n",
      "F9 B5 B1048.4\n",
      "F9 B5 B1049.4\n",
      "F9 B5 B1051.3\n",
      "F9 B5 B1056.4\n",
      "F9 B5 B1048.5\n",
      "F9 B5 B1051.4\n",
      "F9 B5 B1049.5\n",
      "F9 B5 B1060.2 \n",
      "F9 B5 B1058.3 \n",
      "F9 B5 B1051.6\n",
      "F9 B5 B1060.3\n",
      "F9 B5 B1049.7 \n"
     ]
    }
   ],
   "source": [
    "import sqlite3\n",
    "\n",
    "# Conectar a la base de datos (asegúrate de cambiar 'my_data1.db' por el nombre real de tu base de datos)\n",
    "conn = sqlite3.connect('my_data1.db')\n",
    "cursor = conn.cursor()\n",
    "\n",
    "# Utilizar una subconsulta para obtener la máxima carga útil entre todas las versiones de impulsores\n",
    "query = \"\"\"\n",
    "        SELECT booster_version\n",
    "        FROM SPACEXTABLE\n",
    "        WHERE payload_mass__kg_ = (SELECT MAX(payload_mass__kg_) FROM SPACEXTABLE);\n",
    "        \"\"\"\n",
    "\n",
    "# Ejecutar la consulta SQL\n",
    "cursor.execute(query)\n",
    "\n",
    "# Obtener los resultados\n",
    "results = cursor.fetchall()\n",
    "\n",
    "# Imprimir los nombres de las versiones de impulsores\n",
    "print(\"Las versiones de impulsores que llevaron la máxima masa de carga útil son:\")\n",
    "for result in results:\n",
    "    print(result[0])\n",
    "\n",
    "# Cerrar la conexión\n",
    "conn.close()\n"
   ]
  },
  {
   "cell_type": "markdown",
   "id": "58ce7761",
   "metadata": {},
   "source": [
    "## Task 9\n",
    "List the records which will display the month names, failure landing_outcomes in drone ship, booster versions, launch_site\n",
    "for the months in year 2015.\n",
    "\n",
    "Note_SQLLITE does not support monthnames. So you need to use substr(Date, 6,2) as month to get the months and substr(Date,0,5)='2015' for year"
   ]
  },
  {
   "cell_type": "code",
   "execution_count": 107,
   "id": "9add6323",
   "metadata": {},
   "outputs": [
    {
     "name": "stdout",
     "output_type": "stream",
     "text": [
      "Registros para los meses en el año 2015 con fallos en el aterrizaje en el drone ship:\n"
     ]
    }
   ],
   "source": [
    "import sqlite3\n",
    "\n",
    "# Conectar a la base de datos (asegúrate de cambiar 'my_data1.db' por el nombre real de tu base de datos)\n",
    "conn = sqlite3.connect('my_data1.db')\n",
    "cursor = conn.cursor()\n",
    "\n",
    "# Ejecutar la consulta SQL para obtener los registros según las condiciones dadas\n",
    "query = \"\"\"\n",
    "    SELECT \n",
    "        substr(Date, 6, 2) AS Month,\n",
    "        Payload, \n",
    "        landing_outcome,\n",
    "        booster_version,\n",
    "        launch_site \n",
    "    FROM \n",
    "        SPACEXTABLE \n",
    "    WHERE \n",
    "        substr(Date, 0, 5) = '2015' \n",
    "        AND landing_outcome = 'drone ship';\n",
    "\"\"\"\n",
    "cursor.execute(query)\n",
    "\n",
    "# Obtener los resultados\n",
    "results = cursor.fetchall()\n",
    "\n",
    "# Imprimir los resultados\n",
    "print(\"Registros para los meses en el año 2015 con fallos en el aterrizaje en el drone ship:\")\n",
    "for row in results:\n",
    "    print(\"Month:\", row[0])\n",
    "    print(\"Failure:\", row[1])\n",
    "    print(\"Landing Outcomes:\", row[2])\n",
    "    print(\"Booster Version:\", row[3])\n",
    "    print(\"Launch Site:\", row[4])\n",
    "    print(\"----\")\n",
    "\n",
    "# Cerrar la conexión\n",
    "conn.close()\n"
   ]
  },
  {
   "cell_type": "markdown",
   "id": "e960a2fe",
   "metadata": {},
   "source": [
    "## Task 10\n",
    "Rank the count of landing outcomes (such as Failure(drone ship) or Success (Gound pad)) between the date 2010-06-04 and 2017-03-20, in descending order."
   ]
  },
  {
   "cell_type": "code",
   "execution_count": 108,
   "id": "6b0c4fc4",
   "metadata": {},
   "outputs": [
    {
     "name": "stdout",
     "output_type": "stream",
     "text": [
      "Recuento de resultados de aterrizaje entre 2010-06-04 y 2017-03-20 (ordenados por descenso):\n"
     ]
    }
   ],
   "source": [
    "import sqlite3\n",
    "\n",
    "# Conectar a la base de datos (asegúrate de cambiar 'my_data1.db' por el nombre real de tu base de datos)\n",
    "conn = sqlite3.connect('my_data1.db')\n",
    "cursor = conn.cursor()\n",
    "\n",
    "# Ejecutar la consulta SQL para clasificar el recuento de resultados de aterrizaje entre las fechas dadas en orden descendente\n",
    "query = \"\"\"\n",
    "    SELECT landing_outcome, COUNT(*) as count\n",
    "    FROM SPACEXTABLE\n",
    "    WHERE date BETWEEN '2010-06-04' AND '2017-03-20'\n",
    "    GROUP BY landing_outcome\n",
    "    ORDER BY count DESC;\n",
    "\"\"\"\n",
    "cursor.execute(query)\n",
    "\n",
    "# Obtener todos los resultados\n",
    "results = cursor.fetchall()\n",
    "\n",
    "# Imprimir los resultados\n",
    "print(\"Recuento de resultados de aterrizaje entre 2010-06-04 y 2017-03-20 (ordenados por descenso):\")\n",
    "for row in results:\n",
    "    print(f\"{row[0]}: {row[1]}\")\n",
    "\n",
    "# Cerrar la conexión\n",
    "conn.close()\n"
   ]
  },
  {
   "cell_type": "code",
   "execution_count": null,
   "id": "ce9acac8",
   "metadata": {},
   "outputs": [],
   "source": []
  }
 ],
 "metadata": {
  "kernelspec": {
   "display_name": "Python 3 (ipykernel)",
   "language": "python",
   "name": "python3"
  },
  "language_info": {
   "codemirror_mode": {
    "name": "ipython",
    "version": 3
   },
   "file_extension": ".py",
   "mimetype": "text/x-python",
   "name": "python",
   "nbconvert_exporter": "python",
   "pygments_lexer": "ipython3",
   "version": "3.11.4"
  }
 },
 "nbformat": 4,
 "nbformat_minor": 5
}
